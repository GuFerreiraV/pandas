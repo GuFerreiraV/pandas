{
  "nbformat": 4,
  "nbformat_minor": 0,
  "metadata": {
    "colab": {
      "provenance": [],
      "mount_file_id": "1CG-HNZ0Yc8iznht9JSkLhcEUfy7bDaB5",
      "authorship_tag": "ABX9TyMH5oaL9X1N8IfvZviKaGEy",
      "include_colab_link": true
    },
    "kernelspec": {
      "name": "python3",
      "display_name": "Python 3"
    },
    "language_info": {
      "name": "python"
    }
  },
  "cells": [
    {
      "cell_type": "markdown",
      "metadata": {
        "id": "view-in-github",
        "colab_type": "text"
      },
      "source": [
        "<a href=\"https://colab.research.google.com/github/GuFerreiraV/pandas/blob/main/pandas_estudos.ipynb\" target=\"_parent\"><img src=\"https://colab.research.google.com/assets/colab-badge.svg\" alt=\"Open In Colab\"/></a>"
      ]
    },
    {
      "cell_type": "code",
      "execution_count": 1,
      "metadata": {
        "id": "xE36vRgy6eSL"
      },
      "outputs": [],
      "source": [
        "import pandas as pd"
      ]
    },
    {
      "cell_type": "code",
      "source": [
        "# read_csv() - função de leitura de extensões csv\n",
        "df = pd.read_csv('drive/MyDrive/meus_dados/tb_produtos.csv')\n",
        "print(df.to_string())\n",
        "\n",
        "# Cleaning - limpeza de colunas ou linhas com valores errados ou vázios"
      ],
      "metadata": {
        "colab": {
          "base_uri": "https://localhost:8080/"
        },
        "id": "-vTtzbNB9Wlq",
        "outputId": "68e27917-2604-4d89-9775-0dca7396f9e0"
      },
      "execution_count": 2,
      "outputs": [
        {
          "output_type": "stream",
          "name": "stdout",
          "text": [
            "       ID                             produto  preco    categoria\n",
            "0   P0001            Fone de ouvido Bluetooth  249.9  Eletrônicos\n",
            "1   P0002                Smartwatch esportivo  499.0  Eletrônicos\n",
            "2   P0003       Mochila antifurto para laptop  159.9   Acessórios\n",
            "3   P0004   Conjunto de ferramentas para casa  199.9   Utilidades\n",
            "4   P0005     Caixa de som Bluetooth portátil  189.9  Eletrônicos\n",
            "5   P0006  Cadeira ergonômica para escritório  599.0         Casa\n",
            "6   P0007          Teclado mecânico iluminado  299.9  Eletrônicos\n",
            "7   P0008                 Óculos de sol UV400   99.9   Acessórios\n",
            "8   P0009       Power bank de alta capacidade  179.9  Eletrônicos\n",
            "9   P0010                 Mouse gamer sem fio  159.9  Eletrônicos\n",
            "10  P0011                Abajur LED regulável  129.9         Casa\n",
            "11  P0012              Tapete de yoga premium  119.9   Utilidades\n",
            "12  P0013           Mixer portátil para sucos  139.9         Casa\n",
            "13  P0014         Fritadeira elétrica digital  459.9         Casa\n",
            "14  P0015   Capinha de celular à prova d’água   59.9   Acessórios\n",
            "15  P0016             Kit de cuidados faciais  169.9   Utilidades\n",
            "16  P0017           Relógio de parede moderno   79.9         Casa\n",
            "17  P0018     Almofada anatômica para cadeira  109.9         Casa\n",
            "18  P0019                Organizador multiuso   89.9   Utilidades\n"
          ]
        }
      ]
    },
    {
      "cell_type": "code",
      "source": [
        "dados = {\n",
        "     'names': ['Gustavo', 'Anna', 'André'],\n",
        "     'idades': [21, 20, 32]\n",
        " }\n",
        "temp = pd.DataFrame(dados)\n",
        "print(temp)"
      ],
      "metadata": {
        "colab": {
          "base_uri": "https://localhost:8080/"
        },
        "id": "SOF4v4Ia_A6o",
        "outputId": "8a3e5093-a8d7-4808-931b-3c659534bffa"
      },
      "execution_count": 4,
      "outputs": [
        {
          "output_type": "stream",
          "name": "stdout",
          "text": [
            "     names  idades\n",
            "0  Gustavo      21\n",
            "1     Anna      20\n",
            "2    André      32\n",
            "2.2.2\n"
          ]
        }
      ]
    },
    {
      "cell_type": "code",
      "source": [
        "integers = [1,4,6]\n",
        "temp = pd.Series(integers)\n",
        "print(temp)"
      ],
      "metadata": {
        "colab": {
          "base_uri": "https://localhost:8080/"
        },
        "id": "60NXPbG1A4m8",
        "outputId": "fff01529-b503-42d3-dcf3-45b2471c8128"
      },
      "execution_count": 5,
      "outputs": [
        {
          "output_type": "stream",
          "name": "stdout",
          "text": [
            "0    1\n",
            "1    4\n",
            "2    6\n",
            "dtype: int64\n"
          ]
        }
      ]
    },
    {
      "cell_type": "code",
      "source": [
        "a = [1, 3, 5]\n",
        "\n",
        "temp = pd.Series(a, index = [\"x\", \"y\", \"z\"]) # Nomeando nossos rotúlos\n",
        "print(temp)"
      ],
      "metadata": {
        "colab": {
          "base_uri": "https://localhost:8080/"
        },
        "id": "0F3KhTjvEo_g",
        "outputId": "4b4c6edc-0dd2-4735-bc35-764bc389273c"
      },
      "execution_count": 6,
      "outputs": [
        {
          "output_type": "stream",
          "name": "stdout",
          "text": [
            "x    1\n",
            "y    3\n",
            "z    5\n",
            "dtype: int64\n"
          ]
        }
      ]
    }
  ]
}